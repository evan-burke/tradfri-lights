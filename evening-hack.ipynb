{
 "cells": [
  {
   "cell_type": "code",
   "execution_count": 1,
   "metadata": {},
   "outputs": [],
   "source": [
    "# if lights are off when a color transition starts, or for a brightness transition to zero, transition will fail.\n",
    "# So we need a way to initiate a transition based on expected state.\n",
    "\n",
    "# But reworking the script to do that is... kinda big. This is the quick and dirty version.\n",
    "# Assumes the transition is 1hr+ long. "
   ]
  },
  {
   "cell_type": "code",
   "execution_count": 17,
   "metadata": {},
   "outputs": [],
   "source": [
    "import datetime\n",
    "import random\n",
    "import time\n",
    "\n",
    "from tradfri import Tradfri"
   ]
  },
  {
   "cell_type": "markdown",
   "metadata": {},
   "source": [
    "Todo:\n",
    "look for all 'todo' instances here.\n",
    "\n",
    "\n",
    "figure out multithreading. https://stackoverflow.com/questions/2846653/how-to-use-threading-in-python"
   ]
  },
  {
   "cell_type": "markdown",
   "metadata": {},
   "source": [
    "#### Approach:\n",
    "\n",
    "Process:\n",
    "Plan transition for [brightness, color] for each light based on start & end times\n",
    "Skip through transition until we reach current time. Do short transition (30s?) to that. \n"
   ]
  },
  {
   "cell_type": "code",
   "execution_count": 12,
   "metadata": {},
   "outputs": [],
   "source": [
    "### DEBUG\n",
    "from pprint import pprint"
   ]
  },
  {
   "cell_type": "code",
   "execution_count": 13,
   "metadata": {},
   "outputs": [],
   "source": [
    "### CONFIG:\n",
    "\n",
    "evening_start_time = datetime.time(hour=17, minute=30)\n",
    "\n",
    "# 'quick' initial transition to bring lights in line with overall plan. think a minute-ish.\n",
    "# definitely don't go more than 15 min or you're not 'catching up' fast enough.\n",
    "initial_transition_duration = datetime.timedelta(seconds=60)\n",
    "\n",
    "# different times for end of color transition and end of brightness transition:\n",
    "evening_color_end_value = 2200\n",
    "evening_color_end_time = datetime.time(hour=23)\n",
    "\n",
    "evening_brightness_end_value = 0\n",
    "evening_brightness_end_time = datetime.time(hour=23, minute=45)\n",
    "\n",
    "# NOTE: don't transition over midnight, or this will break. Like I said, quick and dirty.\n",
    "#(Modify to use datetimes if you need to transition spanning midnight.\n",
    "#  Or check if start is after end & +1 the date.)\n",
    "\n",
    "\n",
    "# we'll extend transitions by a random amount, between 0 and this many seconds,\n",
    "#  to prevent everything from switching off at once.\n",
    "# recommend 5 minutes = 300 seconds\n",
    "random_delay_range = 300\n",
    "\n"
   ]
  },
  {
   "cell_type": "code",
   "execution_count": 4,
   "metadata": {},
   "outputs": [],
   "source": [
    "# basically just a record of daytime values for the office. also defined in homeassistant as an automation.\n",
    "# *not* the same names as in light-schedule.py; these are more like the entity ids.\n",
    "daytime_values = {\"office_table\": {\n",
    "                            \"brightness\": 230,\n",
    "                            \"color\": 4000\n",
    "                            },\n",
    "           \"desk_lamp\": {\n",
    "                           \"brightness\": 200,\n",
    "                           \"color\": 3200\n",
    "                       },\n",
    "           \"geo_desk\": {\n",
    "                           \"brightness\": 130,\n",
    "                           \"color\": 3350\n",
    "                       },\n",
    "           \"floor_uplight\": {\n",
    "                           \"brightness\": 230,\n",
    "                           \"color\": 3800\n",
    "                       },\n",
    "           \"monitor_left\": {\n",
    "                           \"brightness\": 130,\n",
    "                           \"color\": 3700\n",
    "                       },\n",
    "           \"monitor_right\": {\n",
    "                           \"brightness\": 130,\n",
    "                           \"color\": 3700\n",
    "                       }\n",
    "          }\n"
   ]
  },
  {
   "cell_type": "code",
   "execution_count": 5,
   "metadata": {},
   "outputs": [],
   "source": [
    "# Do some setup / initial math and stuff.\n",
    "\n",
    "today = datetime.datetime.now().date()\n",
    "\n",
    "# make datetimes from dates. Use these internally instead of vals above.\n",
    "e_start = datetime.datetime.combine(today, evening_start_time)\n",
    "c_end = datetime.datetime.combine(today, evening_color_end_time)\n",
    "b_end = datetime.datetime.combine(today, evening_brightness_end_time)\n",
    "\n",
    "# timedeltas\n",
    "color_duration = c_end - e_start\n",
    "brightness_duration = b_end - e_start\n",
    "\n",
    "# put these into a more easily programmatically-navigable structure.\n",
    "details = {\n",
    "              \"color\": {\n",
    "                        \"value\": evening_color_end_value,\n",
    "                        \"end_time\": evening_color_end_time,\n",
    "                        \"duration\": color_duration\n",
    "                       },\n",
    "              \"brightness\": {\n",
    "                        \"value\":evening_brightness_end_value,\n",
    "                        \"end_time\": evening_brightness_end_time,\n",
    "                        \"duration\": brightness_duration\n",
    "              }\n",
    "}\n"
   ]
  },
  {
   "cell_type": "code",
   "execution_count": 34,
   "metadata": {},
   "outputs": [],
   "source": []
  },
  {
   "cell_type": "code",
   "execution_count": 6,
   "metadata": {},
   "outputs": [],
   "source": [
    "# list of each transition we'll have to do. these are *start* values.\n",
    "transitions = []\n",
    "for i in daytime_values:\n",
    "    #print(i)\n",
    "    transitions.append({\"name\": i, \"type\": \"brightness\", \"value\": daytime_values[i]['brightness']})\n",
    "    transitions.append({\"name\": i, \"type\": \"color\", \"value\": daytime_values[i]['color']})"
   ]
  },
  {
   "cell_type": "code",
   "execution_count": 7,
   "metadata": {},
   "outputs": [
    {
     "data": {
      "text/plain": [
       "{'name': 'office_table', 'type': 'brightness', 'value': 230}"
      ]
     },
     "execution_count": 7,
     "metadata": {},
     "output_type": "execute_result"
    }
   ],
   "source": [
    "transitions[0]"
   ]
  },
  {
   "cell_type": "code",
   "execution_count": null,
   "metadata": {},
   "outputs": [],
   "source": []
  },
  {
   "cell_type": "code",
   "execution_count": null,
   "metadata": {},
   "outputs": [],
   "source": [
    "### multithreading demo here"
   ]
  },
  {
   "cell_type": "code",
   "execution_count": 95,
   "metadata": {},
   "outputs": [],
   "source": [
    "def get_val(transition):\n",
    "    entity = 'light.' + transition['name']\n",
    "    # instantiate\n",
    "    device = Tradfri(entity)\n",
    "    \n",
    "    if transition['type'] == 'brightness':\n",
    "        val = device.get_brightness()\n",
    "    else: # it's color\n",
    "        val = device.get_temp_kelvin()\n",
    "\n",
    "    #print(\"gv()\", transition['name'], transition['type'], val, sep='\\t')\n",
    "    return (transition['name'], transition['type'], val)"
   ]
  },
  {
   "cell_type": "code",
   "execution_count": 89,
   "metadata": {},
   "outputs": [
    {
     "name": "stdout",
     "output_type": "stream",
     "text": [
      "gv\toffice_table\tbrightness\t154\n",
      "gv\toffice_table\tcolor\t2786\n",
      "gv\tdesk_lamp\tbrightness\t135\n"
     ]
    }
   ],
   "source": [
    "# non-multithreaded version\n",
    "for i in transitions[0:3]:\n",
    "    val = get_val(i)\n",
    "    #print(i['name'], i['type'], val[1])"
   ]
  },
  {
   "cell_type": "code",
   "execution_count": 41,
   "metadata": {},
   "outputs": [],
   "source": [
    "from multiprocessing.dummy import Pool as ThreadPool\n",
    "# maybe problematic if we have hundreds of transitions, but we don't\n",
    "pool = ThreadPool(len(transitions))"
   ]
  },
  {
   "cell_type": "code",
   "execution_count": 93,
   "metadata": {},
   "outputs": [
    {
     "name": "stdout",
     "output_type": "stream",
     "text": [
      "gv\tfloor_uplight\tbrightness\t152\n",
      "gv\tdesk_lamp\tcolor\t2538\n",
      "gv\tgeo_desk\tcolor\t2571\n",
      "gv\tfloor_uplight\tcolor\t2747\n",
      "gv\tgeo_desk\tbrightness\t87\n",
      "gv\tmonitor_left\tbrightness\t87\n",
      "gv\tmonitor_left\tcolor\t2725\n",
      "gv\toffice_table\tcolor\t2762\n",
      "gv\tdesk_lamp\tbrightness\t134\n",
      "gv\tmonitor_right\tbrightness\t88\n",
      "gv\toffice_table\tbrightness\t153\n",
      "gv\tmonitor_right\tcolor\t2740\n"
     ]
    }
   ],
   "source": [
    "# multithreaded version. this is actually pretty easy.\n",
    "results = pool.map(get_val, transitions)"
   ]
  },
  {
   "cell_type": "code",
   "execution_count": 94,
   "metadata": {},
   "outputs": [
    {
     "data": {
      "text/plain": [
       "[('office_table', 'brightness', 153),\n",
       " ('office_table', 'color', 2762),\n",
       " ('desk_lamp', 'brightness', 134),\n",
       " ('desk_lamp', 'color', 2538),\n",
       " ('geo_desk', 'brightness', 87),\n",
       " ('geo_desk', 'color', 2571),\n",
       " ('floor_uplight', 'brightness', 152),\n",
       " ('floor_uplight', 'color', 2747),\n",
       " ('monitor_left', 'brightness', 87),\n",
       " ('monitor_left', 'color', 2725),\n",
       " ('monitor_right', 'brightness', 88),\n",
       " ('monitor_right', 'color', 2740)]"
      ]
     },
     "execution_count": 94,
     "metadata": {},
     "output_type": "execute_result"
    }
   ],
   "source": [
    "results"
   ]
  },
  {
   "cell_type": "code",
   "execution_count": null,
   "metadata": {},
   "outputs": [],
   "source": [
    "## end multithreading demo"
   ]
  },
  {
   "cell_type": "code",
   "execution_count": null,
   "metadata": {},
   "outputs": [],
   "source": []
  },
  {
   "cell_type": "code",
   "execution_count": 16,
   "metadata": {},
   "outputs": [
    {
     "name": "stdout",
     "output_type": "stream",
     "text": [
      "[{'brightness': 1.0,\n",
      "  'step_number': 0,\n",
      "  'step_start_time': datetime.datetime(2018, 9, 9, 17, 30)},\n",
      " {'brightness': 0.0,\n",
      "  'step_number': 1,\n",
      "  'step_start_time': datetime.datetime(2018, 9, 9, 20, 37, 30)}]\n",
      "no step found!\n"
     ]
    }
   ],
   "source": [
    "# ok, here we go\n",
    "\n",
    "def catch_up(transition):\n",
    "    # 'resumes' an existing transition.\n",
    "    \n",
    "    # step 1 in randomizing\n",
    "    time.sleep(random.uniform(0,9))\n",
    "    \n",
    "    \n",
    "    ### todo: check if current time is between start and end times before going through the whole plan.\n",
    "    \n",
    "\n",
    "    #print(i)\n",
    "\n",
    "    entity = 'light.' + transition['name']\n",
    "    # instantiate\n",
    "    device = Tradfri(entity)\n",
    "    \n",
    "    #print(details[i['type']])\n",
    "    transition_type = transition['type']\n",
    "    final_attr = {transition_type: details[transition_type]['value']}\n",
    "    duration = details[transition_type]['duration']\n",
    "    \n",
    "    #print(\"final:\", final_attr)\n",
    "    \n",
    "    # usage:\n",
    "    # plan_transition(self, new_attr, duration, start_time=None)\n",
    "    \n",
    "    # randomize a bit more.\n",
    "    duration + random.uniform(0, random_delay_range)\n",
    "    plan = device.plan_transition(final_attr, duration, e_start)\n",
    "    \n",
    "    # debug\n",
    "    pprint(plan['plan'][-3:])\n",
    "    \n",
    "    # find the point in the the transition *after* our initial transition to current value\n",
    "    benchmark_time = datetime.datetime.now() + initial_transition_duration\n",
    "    \n",
    "    current_step_no = None\n",
    "    # find out how far into the transition we are.\n",
    "    for i in plan['plan']: \n",
    "        if i['step_start_time'] >= benchmark_time:\n",
    "            current_step_no = i['step_number'] - 1\n",
    "            break\n",
    "    \n",
    "    if current_step_no is None:\n",
    "        # probably beyond the end of the transition.\n",
    "        print(\"no step found!\")\n",
    "        \n",
    "        ### write me\n",
    "        \n",
    "    elif current_step_no == 0:\n",
    "        # may or may not have started yet? do we need to special case this?\n",
    "        print(\"cur step is zero!\")\n",
    "        \n",
    "        ### write me\n",
    "        \n",
    "    elif current_step_no < 0:\n",
    "        # definitely haven't started yet\n",
    "        print(\"cur step is negative! step:\", current_step_no)\n",
    "        \n",
    "        ### write me\n",
    "    \n",
    "    else: #continue\n",
    "    \n",
    "        current_step_vals = plan['plan'][current_step_no]\n",
    "\n",
    "        print(\"cur step:\", current_step_vals)\n",
    "\n",
    "        cur_attr = {transition_type: plan['plan'][current_step_no][transition_type]}\n",
    "\n",
    "        print(\"ca:\", cur_attr)\n",
    "\n",
    "        # Do a quick transition to these values\n",
    "        device.transition(cur_attr, initial_transition_duration)\n",
    "\n",
    "        # Then, resume normal transition, starting from current step / values.\n",
    "        device.execute_transition(plan[current_step_vals:])\n",
    "    "
   ]
  },
  {
   "cell_type": "code",
   "execution_count": null,
   "metadata": {},
   "outputs": [],
   "source": [
    "for i in transitions[0:1]:\n",
    "    catch_up(i)"
   ]
  },
  {
   "cell_type": "code",
   "execution_count": 29,
   "metadata": {},
   "outputs": [
    {
     "ename": "NameError",
     "evalue": "name 'ok' is not defined",
     "output_type": "error",
     "traceback": [
      "\u001b[1;31m---------------------------------------------------------------------------\u001b[0m",
      "\u001b[1;31mNameError\u001b[0m                                 Traceback (most recent call last)",
      "\u001b[1;32m<ipython-input-29-14ec540f0dd5>\u001b[0m in \u001b[0;36m<module>\u001b[1;34m()\u001b[0m\n\u001b[0;32m      1\u001b[0m \u001b[1;33m\u001b[0m\u001b[0m\n\u001b[0;32m      2\u001b[0m \u001b[0mtime\u001b[0m\u001b[1;33m.\u001b[0m\u001b[0msleep\u001b[0m\u001b[1;33m(\u001b[0m\u001b[0mrandom\u001b[0m\u001b[1;33m.\u001b[0m\u001b[0muniform\u001b[0m\u001b[1;33m(\u001b[0m\u001b[1;36m0\u001b[0m\u001b[1;33m,\u001b[0m\u001b[1;36m11\u001b[0m\u001b[1;33m)\u001b[0m\u001b[1;33m)\u001b[0m\u001b[1;33m\u001b[0m\u001b[0m\n\u001b[1;32m----> 3\u001b[1;33m \u001b[0mprint\u001b[0m\u001b[1;33m(\u001b[0m\u001b[0mok\u001b[0m\u001b[1;33m)\u001b[0m\u001b[1;33m\u001b[0m\u001b[0m\n\u001b[0m",
      "\u001b[1;31mNameError\u001b[0m: name 'ok' is not defined"
     ]
    }
   ],
   "source": [
    "\n",
    "time.sleep(random.uniform(0,11))\n",
    "print(ok)"
   ]
  },
  {
   "cell_type": "code",
   "execution_count": null,
   "metadata": {},
   "outputs": [],
   "source": []
  },
  {
   "cell_type": "code",
   "execution_count": null,
   "metadata": {},
   "outputs": [],
   "source": []
  }
 ],
 "metadata": {
  "kernelspec": {
   "display_name": "Python 3",
   "language": "python",
   "name": "python3"
  },
  "language_info": {
   "codemirror_mode": {
    "name": "ipython",
    "version": 3
   },
   "file_extension": ".py",
   "mimetype": "text/x-python",
   "name": "python",
   "nbconvert_exporter": "python",
   "pygments_lexer": "ipython3",
   "version": "3.6.6"
  }
 },
 "nbformat": 4,
 "nbformat_minor": 2
}

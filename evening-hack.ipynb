{
 "cells": [
  {
   "cell_type": "code",
   "execution_count": 33,
   "metadata": {},
   "outputs": [],
   "source": [
    "# if lights are off when a color transition starts, or for a brightness transition to zero, transition will fail.\n",
    "# So we need a way to initiate a transition based on expected state.\n",
    "\n",
    "# But reworking the script to do that is... kinda big. This is the quick and dirty version.\n",
    "# Assumes the transition is 1hr+ long. "
   ]
  },
  {
   "cell_type": "code",
   "execution_count": 34,
   "metadata": {},
   "outputs": [],
   "source": [
    "import datetime\n",
    "import random\n",
    "import time\n",
    "\n",
    "from tradfri import Tradfri"
   ]
  },
  {
   "cell_type": "markdown",
   "metadata": {},
   "source": [
    "Todo:\n",
    "look for all 'todo' instances here.\n",
    "\n",
    "\n",
    "... this is not turning out to be as 'quick and dirty' as I thought.\n",
    "\n",
    "\n",
    "figure out multithreading. https://stackoverflow.com/questions/2846653/how-to-use-threading-in-python"
   ]
  },
  {
   "cell_type": "markdown",
   "metadata": {},
   "source": [
    "#### Approach:\n",
    "\n",
    "Process:\n",
    "Plan transition for [brightness, color] for each light based on start & end times\n",
    "Skip through transition until we reach current time. Do short transition (30s?) to that. \n"
   ]
  },
  {
   "cell_type": "code",
   "execution_count": 52,
   "metadata": {},
   "outputs": [],
   "source": [
    "### DEBUG\n",
    "from pprint import pprint\n",
    "DEBUG = 1"
   ]
  },
  {
   "cell_type": "code",
   "execution_count": 99,
   "metadata": {},
   "outputs": [],
   "source": [
    "### CONFIG:\n",
    "\n",
    "evening_start_time = datetime.time(hour=17, minute=30)\n",
    "\n",
    "# 'quick' initial transition to bring lights in line with overall plan. think a minute-ish.\n",
    "# definitely don't go more than 15 min or you're not 'catching up' fast enough.\n",
    "initial_transition_duration = datetime.timedelta(seconds=6)\n",
    "\n",
    "# different times for end of color transition and end of brightness transition:\n",
    "evening_color_end_value = 2200\n",
    "evening_color_end_time = datetime.time(hour=23)\n",
    "\n",
    "evening_brightness_end_value = 0\n",
    "evening_brightness_end_time = datetime.time(hour=23, minute=45)\n",
    "\n",
    "# NOTE: don't transition over midnight, or this will break. Like I said, quick and dirty.\n",
    "#(Modify to use datetimes if you need to transition spanning midnight.\n",
    "#  Or check if start is after end & +1 the date.)\n",
    "\n",
    "\n",
    "# we'll extend transitions by a random amount, between 0 and this many seconds,\n",
    "#  to prevent everything from switching off at once.\n",
    "# recommend 5 minutes = 300 seconds\n",
    "random_delay_range = 300\n",
    "\n"
   ]
  },
  {
   "cell_type": "code",
   "execution_count": 37,
   "metadata": {},
   "outputs": [],
   "source": [
    "# basically just a record of daytime values for the office. also defined in homeassistant as an automation.\n",
    "# *not* the same names as in light-schedule.py; these are more like the entity ids.\n",
    "daytime_values = {\"office_table\": {\n",
    "                            \"brightness\": 230,\n",
    "                            \"color\": 4000\n",
    "                            },\n",
    "           \"desk_lamp\": {\n",
    "                           \"brightness\": 200,\n",
    "                           \"color\": 3200\n",
    "                       },\n",
    "           \"geo_desk\": {\n",
    "                           \"brightness\": 130,\n",
    "                           \"color\": 3350\n",
    "                       },\n",
    "           \"floor_uplight\": {\n",
    "                           \"brightness\": 230,\n",
    "                           \"color\": 3800\n",
    "                       },\n",
    "           \"monitor_left\": {\n",
    "                           \"brightness\": 130,\n",
    "                           \"color\": 3700\n",
    "                       },\n",
    "           \"monitor_right\": {\n",
    "                           \"brightness\": 130,\n",
    "                           \"color\": 3700\n",
    "                       }\n",
    "          }\n"
   ]
  },
  {
   "cell_type": "code",
   "execution_count": 38,
   "metadata": {},
   "outputs": [],
   "source": [
    "# Do some setup / initial math and stuff.\n",
    "\n",
    "today = datetime.datetime.now().date()\n",
    "\n",
    "# make datetimes from dates. Use these internally instead of vals above.\n",
    "e_start = datetime.datetime.combine(today, evening_start_time)\n",
    "c_end = datetime.datetime.combine(today, evening_color_end_time)\n",
    "b_end = datetime.datetime.combine(today, evening_brightness_end_time)\n",
    "\n",
    "# timedeltas\n",
    "color_duration = c_end - e_start\n",
    "brightness_duration = b_end - e_start\n",
    "\n",
    "# put these into a more easily programmatically-navigable structure.\n",
    "details = {\n",
    "              \"color\": {\n",
    "                        \"value\": evening_color_end_value,\n",
    "                        \"end_time\": evening_color_end_time,\n",
    "                        \"duration\": color_duration\n",
    "                       },\n",
    "              \"brightness\": {\n",
    "                        \"value\":evening_brightness_end_value,\n",
    "                        \"end_time\": evening_brightness_end_time,\n",
    "                        \"duration\": brightness_duration\n",
    "              }\n",
    "}\n"
   ]
  },
  {
   "cell_type": "code",
   "execution_count": null,
   "metadata": {},
   "outputs": [],
   "source": []
  },
  {
   "cell_type": "code",
   "execution_count": 39,
   "metadata": {},
   "outputs": [],
   "source": [
    "# list of each transition we'll have to do. these are *start* values.\n",
    "transitions = []\n",
    "for i in daytime_values:\n",
    "    #print(i)\n",
    "    transitions.append({\"name\": i, \"type\": \"brightness\", \"value\": daytime_values[i]['brightness']})\n",
    "    transitions.append({\"name\": i, \"type\": \"color\", \"value\": daytime_values[i]['color']})"
   ]
  },
  {
   "cell_type": "code",
   "execution_count": 40,
   "metadata": {},
   "outputs": [
    {
     "data": {
      "text/plain": [
       "{'name': 'office_table', 'type': 'brightness', 'value': 230}"
      ]
     },
     "execution_count": 40,
     "metadata": {},
     "output_type": "execute_result"
    }
   ],
   "source": [
    "transitions[0]"
   ]
  },
  {
   "cell_type": "code",
   "execution_count": null,
   "metadata": {},
   "outputs": [],
   "source": []
  },
  {
   "cell_type": "code",
   "execution_count": 41,
   "metadata": {},
   "outputs": [],
   "source": [
    "### multithreading demo here"
   ]
  },
  {
   "cell_type": "code",
   "execution_count": 42,
   "metadata": {},
   "outputs": [],
   "source": [
    "def get_val(transition):\n",
    "    entity = 'light.' + transition['name']\n",
    "    # instantiate\n",
    "    device = Tradfri(entity)\n",
    "    \n",
    "    if transition['type'] == 'brightness':\n",
    "        val = device.get_brightness()\n",
    "    else: # it's color\n",
    "        val = device.get_temp_kelvin()\n",
    "\n",
    "    #print(\"gv()\", transition['name'], transition['type'], val, sep='\\t')\n",
    "    return (transition['name'], transition['type'], val)"
   ]
  },
  {
   "cell_type": "code",
   "execution_count": 43,
   "metadata": {},
   "outputs": [],
   "source": [
    "# non-multithreaded version\n",
    "for i in transitions[0:3]:\n",
    "    val = get_val(i)\n",
    "    #print(i['name'], i['type'], val[1])"
   ]
  },
  {
   "cell_type": "code",
   "execution_count": 44,
   "metadata": {},
   "outputs": [],
   "source": [
    "from multiprocessing.dummy import Pool as ThreadPool\n",
    "# maybe problematic if we have hundreds of transitions, but we don't\n",
    "pool = ThreadPool(len(transitions))"
   ]
  },
  {
   "cell_type": "code",
   "execution_count": 45,
   "metadata": {},
   "outputs": [],
   "source": [
    "# multithreaded version. this is actually pretty easy.\n",
    "results = pool.map(get_val, transitions)"
   ]
  },
  {
   "cell_type": "code",
   "execution_count": 46,
   "metadata": {},
   "outputs": [
    {
     "data": {
      "text/plain": [
       "[('office_table', 'brightness', 230),\n",
       " ('office_table', 'color', 4000),\n",
       " ('desk_lamp', 'brightness', 200),\n",
       " ('desk_lamp', 'color', 3205),\n",
       " ('geo_desk', 'brightness', 130),\n",
       " ('geo_desk', 'color', 3356),\n",
       " ('floor_uplight', 'brightness', 230),\n",
       " ('floor_uplight', 'color', 3802),\n",
       " ('monitor_left', 'brightness', 130),\n",
       " ('monitor_left', 'color', 3704),\n",
       " ('monitor_right', 'brightness', 130),\n",
       " ('monitor_right', 'color', 3704)]"
      ]
     },
     "execution_count": 46,
     "metadata": {},
     "output_type": "execute_result"
    }
   ],
   "source": [
    "results"
   ]
  },
  {
   "cell_type": "code",
   "execution_count": 47,
   "metadata": {},
   "outputs": [],
   "source": [
    "## end multithreading demo"
   ]
  },
  {
   "cell_type": "code",
   "execution_count": null,
   "metadata": {},
   "outputs": [],
   "source": []
  },
  {
   "cell_type": "code",
   "execution_count": 96,
   "metadata": {},
   "outputs": [],
   "source": [
    "# ok, here we go.\n",
    "\n",
    "def catch_up(transition):\n",
    "    # 'resumes' an existing transition.\n",
    "    \n",
    "    ### todo: function too big, split up?\n",
    "    ### todo: check if current time is between start and end times before going through the whole plan.\n",
    "    \n",
    "    ### todo: make initial transition shorter if # of steps is low. min 1 second per step. \n",
    "    \n",
    "    # BUG: plan_transition function transitions from *current* attrs. I think. I'm pretty sure.\n",
    "    \n",
    "    # BUG: \n",
    "    # error when transitioning a 'color' value.\n",
    "    \"\"\"\n",
    "    ~\\Documents\\homeassistant\\tradfri-lights\\tradfri.py in calculate_steps_by_granularity(current_attrs, new_attr)\n",
    "    281 \n",
    "    282                 # skip if current state and transition state are equal:\n",
    "--> 283                 if new_attr[key] == current_attrs[key]:\n",
    "\n",
    "    KeyError: 'color'\n",
    "    \"\"\"\n",
    "    \n",
    "    # BUG:\n",
    "    \"\"\"\n",
    "    ~\\Documents\\homeassistant\\tradfri-lights\\tradfri.py in execute_transition(self, plan)\n",
    "    351         if self.debug > 0:\n",
    "    352             print(\"time until start\", time_until_start)\n",
    "--> 353         time.sleep(time_until_start.total_seconds() - 0.1)\n",
    "    354 \n",
    "    355         step_sleep = MIN_STEP_DURATION.total_seconds()\n",
    "\n",
    "    ValueError: sleep length must be non-negative\n",
    "    \"\"\"\n",
    "    \n",
    "    \n",
    "    # step 1 in randomizing\n",
    "    if DEBUG:\n",
    "        time.sleep(random.uniform(0,1))\n",
    "    else:\n",
    "        time.sleep(random.uniform(0,9))\n",
    "    \n",
    "\n",
    "    entity = 'light.' + transition['name']\n",
    "    # instantiate\n",
    "    device = Tradfri(entity)\n",
    "    \n",
    "    \n",
    "    #print(details[i['type']])\n",
    "    transition_type = transition['type']\n",
    "    final_attr = {transition_type: details[transition_type]['value']}\n",
    "    duration = details[transition_type]['duration']\n",
    "    \n",
    "    if transition_type == \"brightness\":\n",
    "        cur_value = {\"brightness\": device.get_brightness()}\n",
    "    else:\n",
    "        cur_value = {\"color\": device.get_color()}\n",
    "    if DEBUG:\n",
    "        print(\"cur value:\", cur_value)\n",
    "            \n",
    "    \n",
    "    # usage:\n",
    "    # plan_transition(self, new_attr, duration, start_time=None)\n",
    "    \n",
    "    # randomize a bit more.\n",
    "    random_delay = random.uniform(0, random_delay_range)\n",
    "    duration += datetime.timedelta(seconds = random_delay)\n",
    "    plan = device.plan_transition(final_attr, duration, e_start)\n",
    "    if DEBUG:\n",
    "        print(\"\\trandomized delay:\", random_delay)\n",
    "        print(\"\\tnew end time:\", e_start + duration)\n",
    "    \n",
    "    # debug\n",
    "    #pprint(plan['plan'][-3:])\n",
    "    \n",
    "    # find the point in the the transition *after* our initial transition to current value\n",
    "    benchmark_time = datetime.datetime.now() + initial_transition_duration\n",
    "    \n",
    "    current_step_no = None\n",
    "    # find out how far into the transition we are.\n",
    "    for i in plan['plan']: \n",
    "        if i['step_start_time'] >= benchmark_time:\n",
    "            current_step_no = i['step_number'] - 1\n",
    "            break\n",
    "    \n",
    "    if current_step_no is None:\n",
    "        # probably beyond the end of the transition.\n",
    "        print(\"no step found!\")\n",
    "        \n",
    "        ### write me\n",
    "        \n",
    "    elif current_step_no == 0:\n",
    "        # may or may not have started yet? do we need to special case this?\n",
    "        print(\"cur step is zero!\")\n",
    "        \n",
    "        ### write me\n",
    "        \n",
    "    elif current_step_no < 0:\n",
    "        # definitely haven't started yet\n",
    "        print(\"cur step is negative! step:\", current_step_no)\n",
    "        \n",
    "        ### write me\n",
    "    \n",
    "    else: #continue\n",
    "        \n",
    "        if DEBUG:\n",
    "            total_steps = len(plan['plan'])\n",
    "            pct_complete = round(100*(current_step_no/total_steps))\n",
    "            print(\"current transition is\", pct_complete, \"percent completed\")\n",
    "    \n",
    "        current_step_vals = plan['plan'][current_step_no]\n",
    "\n",
    "        print(\"cur step:\", current_step_vals)\n",
    "\n",
    "        step_value = {transition_type: plan['plan'][current_step_no][transition_type]}\n",
    "\n",
    "\n",
    "        if cur_value != step_value:\n",
    "            # Do a quick transition to these values\n",
    "            if DEBUG: print(\"catching up to the following values over the next\", \n",
    "                initial_transition_duration.seconds, \n",
    "                \"seconds:\", step_value)\n",
    "            device.transition(step_value, initial_transition_duration)\n",
    "            if DEBUG: print(\"caught up.\", end=\" \")\n",
    "\n",
    "        if DEBUG: print(\"resuming normal schedule\")\n",
    "        \n",
    "        if DEBUG:\n",
    "            print(\"csn #:\", current_step_no, \"of\", total_steps)\n",
    "        \n",
    "        # Then, resume normal transition, starting from current step / values.\n",
    "        new_plan = plan['plan'][current_step_no:]\n",
    "        plan['plan'] = new_plan\n",
    "        device.execute_transition(plan)\n",
    "    "
   ]
  },
  {
   "cell_type": "code",
   "execution_count": 104,
   "metadata": {},
   "outputs": [
    {
     "name": "stdout",
     "output_type": "stream",
     "text": [
      "this cell i: {'name': 'office_table', 'type': 'brightness', 'value': 230}\n",
      "cur value: {'brightness': 7}\n",
      "\trandomized delay: 122.0734258805052\n",
      "\tnew end time: 2018-09-10 23:47:02.073426\n",
      "no step found!\n",
      "this cell i: {'name': 'desk_lamp', 'type': 'brightness', 'value': 200}\n",
      "cur value: {'brightness': 2}\n",
      "\trandomized delay: 180.26558591083997\n",
      "\tnew end time: 2018-09-10 23:48:00.265586\n",
      "no step found!\n",
      "this cell i: {'name': 'geo_desk', 'type': 'brightness', 'value': 130}\n",
      "cur value: {'brightness': 1}\n",
      "\trandomized delay: 58.939678406048834\n",
      "\tnew end time: 2018-09-10 23:45:58.939678\n",
      "no step found!\n",
      "this cell i: {'name': 'floor_uplight', 'type': 'brightness', 'value': 230}\n",
      "cur value: {'brightness': 1}\n",
      "\trandomized delay: 210.2204994458713\n",
      "\tnew end time: 2018-09-10 23:48:30.220499\n",
      "no step found!\n",
      "this cell i: {'name': 'monitor_left', 'type': 'brightness', 'value': 130}\n",
      "cur value: {'brightness': 1}\n",
      "\trandomized delay: 62.12418304159849\n",
      "\tnew end time: 2018-09-10 23:46:02.124183\n",
      "no step found!\n",
      "this cell i: {'name': 'monitor_right', 'type': 'brightness', 'value': 130}\n",
      "cur value: {'brightness': 13}\n",
      "\trandomized delay: 212.4826360223725\n",
      "\tnew end time: 2018-09-10 23:48:32.482636\n",
      "current transition is 85 percent completed\n",
      "cur step: {'brightness': 1.0, 'step_start_time': datetime.datetime(2018, 9, 10, 22, 50, 18, 254539), 'step_number': 11}\n",
      "catching up to the following values over the next 6 seconds: {'brightness': 1.0}\n",
      "caught up. resuming normal schedule\n",
      "csn #: 11 of 13\n"
     ]
    },
    {
     "ename": "ValueError",
     "evalue": "sleep length must be non-negative",
     "output_type": "error",
     "traceback": [
      "\u001b[1;31m---------------------------------------------------------------------------\u001b[0m",
      "\u001b[1;31mValueError\u001b[0m                                Traceback (most recent call last)",
      "\u001b[1;32m<ipython-input-104-c61380b8f14f>\u001b[0m in \u001b[0;36m<module>\u001b[1;34m()\u001b[0m\n\u001b[0;32m      1\u001b[0m \u001b[1;32mfor\u001b[0m \u001b[0mi\u001b[0m \u001b[1;32min\u001b[0m \u001b[0mtransitions\u001b[0m\u001b[1;33m[\u001b[0m\u001b[1;36m0\u001b[0m\u001b[1;33m:\u001b[0m\u001b[1;36m14\u001b[0m\u001b[1;33m:\u001b[0m\u001b[1;36m2\u001b[0m\u001b[1;33m]\u001b[0m\u001b[1;33m:\u001b[0m\u001b[1;33m\u001b[0m\u001b[0m\n\u001b[0;32m      2\u001b[0m     \u001b[0mprint\u001b[0m\u001b[1;33m(\u001b[0m\u001b[1;34m\"this cell i:\"\u001b[0m\u001b[1;33m,\u001b[0m \u001b[0mi\u001b[0m\u001b[1;33m)\u001b[0m\u001b[1;33m\u001b[0m\u001b[0m\n\u001b[1;32m----> 3\u001b[1;33m     \u001b[0mcatch_up\u001b[0m\u001b[1;33m(\u001b[0m\u001b[0mi\u001b[0m\u001b[1;33m)\u001b[0m\u001b[1;33m\u001b[0m\u001b[0m\n\u001b[0m",
      "\u001b[1;32m<ipython-input-96-fd5730cc4ec9>\u001b[0m in \u001b[0;36mcatch_up\u001b[1;34m(transition)\u001b[0m\n\u001b[0;32m    132\u001b[0m         \u001b[0mnew_plan\u001b[0m \u001b[1;33m=\u001b[0m \u001b[0mplan\u001b[0m\u001b[1;33m[\u001b[0m\u001b[1;34m'plan'\u001b[0m\u001b[1;33m]\u001b[0m\u001b[1;33m[\u001b[0m\u001b[0mcurrent_step_no\u001b[0m\u001b[1;33m:\u001b[0m\u001b[1;33m]\u001b[0m\u001b[1;33m\u001b[0m\u001b[0m\n\u001b[0;32m    133\u001b[0m         \u001b[0mplan\u001b[0m\u001b[1;33m[\u001b[0m\u001b[1;34m'plan'\u001b[0m\u001b[1;33m]\u001b[0m \u001b[1;33m=\u001b[0m \u001b[0mnew_plan\u001b[0m\u001b[1;33m\u001b[0m\u001b[0m\n\u001b[1;32m--> 134\u001b[1;33m         \u001b[0mdevice\u001b[0m\u001b[1;33m.\u001b[0m\u001b[0mexecute_transition\u001b[0m\u001b[1;33m(\u001b[0m\u001b[0mplan\u001b[0m\u001b[1;33m)\u001b[0m\u001b[1;33m\u001b[0m\u001b[0m\n\u001b[0m\u001b[0;32m    135\u001b[0m \u001b[1;33m\u001b[0m\u001b[0m\n",
      "\u001b[1;32m~\\Documents\\homeassistant\\tradfri-lights\\tradfri.py\u001b[0m in \u001b[0;36mexecute_transition\u001b[1;34m(self, plan)\u001b[0m\n\u001b[0;32m    351\u001b[0m         \u001b[1;32mif\u001b[0m \u001b[0mself\u001b[0m\u001b[1;33m.\u001b[0m\u001b[0mdebug\u001b[0m \u001b[1;33m>\u001b[0m \u001b[1;36m0\u001b[0m\u001b[1;33m:\u001b[0m\u001b[1;33m\u001b[0m\u001b[0m\n\u001b[0;32m    352\u001b[0m             \u001b[0mprint\u001b[0m\u001b[1;33m(\u001b[0m\u001b[1;34m\"time until start\"\u001b[0m\u001b[1;33m,\u001b[0m \u001b[0mtime_until_start\u001b[0m\u001b[1;33m)\u001b[0m\u001b[1;33m\u001b[0m\u001b[0m\n\u001b[1;32m--> 353\u001b[1;33m         \u001b[0mtime\u001b[0m\u001b[1;33m.\u001b[0m\u001b[0msleep\u001b[0m\u001b[1;33m(\u001b[0m\u001b[0mtime_until_start\u001b[0m\u001b[1;33m.\u001b[0m\u001b[0mtotal_seconds\u001b[0m\u001b[1;33m(\u001b[0m\u001b[1;33m)\u001b[0m \u001b[1;33m-\u001b[0m \u001b[1;36m0.1\u001b[0m\u001b[1;33m)\u001b[0m\u001b[1;33m\u001b[0m\u001b[0m\n\u001b[0m\u001b[0;32m    354\u001b[0m \u001b[1;33m\u001b[0m\u001b[0m\n\u001b[0;32m    355\u001b[0m         \u001b[0mstep_sleep\u001b[0m \u001b[1;33m=\u001b[0m \u001b[0mMIN_STEP_DURATION\u001b[0m\u001b[1;33m.\u001b[0m\u001b[0mtotal_seconds\u001b[0m\u001b[1;33m(\u001b[0m\u001b[1;33m)\u001b[0m\u001b[1;33m\u001b[0m\u001b[0m\n",
      "\u001b[1;31mValueError\u001b[0m: sleep length must be non-negative"
     ]
    }
   ],
   "source": [
    "for i in transitions[0:14:2]:\n",
    "    print(\"this cell i:\", i)\n",
    "    catch_up(i)"
   ]
  },
  {
   "cell_type": "code",
   "execution_count": null,
   "metadata": {},
   "outputs": [],
   "source": [
    "def planner(transition):\n",
    "    # half ass extracted this from the catch_up(). it's still there too.\n",
    "    \n",
    "    entity = 'light.' + transition['name']\n",
    "    # instantiate\n",
    "    device = Tradfri(entity)\n",
    "    \n",
    "    #print(details[i['type']])\n",
    "    transition_type = transition['type']\n",
    "    final_attr = {transition_type: details[transition_type]['value']}\n",
    "    duration = details[transition_type]['duration']\n",
    "    \n",
    "    \n",
    "    # usage:\n",
    "    # plan_transition(self, new_attr, duration, start_time=None)\n",
    "    \n",
    "    # randomize a bit more.\n",
    "    duration + datetime.timedelta(seconds = random.uniform(0, random_delay_range))\n",
    "    plan = device.plan_transition(final_attr, duration, e_start)\n",
    "    \n",
    "    return plan"
   ]
  },
  {
   "cell_type": "code",
   "execution_count": 85,
   "metadata": {},
   "outputs": [
    {
     "name": "stdout",
     "output_type": "stream",
     "text": [
      "steps: 7\n",
      "{'entity_id': 'light.office_table',\n",
      " 'start_time': datetime.datetime(2018, 9, 10, 17, 30),\n",
      " 'start_value': 7,\n",
      " 'step_change': -1.0,\n",
      " 'step_duration': datetime.timedelta(0, 3214, 285714),\n",
      " 'steps': 7,\n",
      " 'target_value': 0,\n",
      " 'transition_type': 'brightness'}\n",
      "[{'brightness': 6.0,\n",
      "  'step_number': 0,\n",
      "  'step_start_time': datetime.datetime(2018, 9, 10, 17, 30)},\n",
      " {'brightness': 5.0,\n",
      "  'step_number': 1,\n",
      "  'step_start_time': datetime.datetime(2018, 9, 10, 18, 23, 34, 285714)},\n",
      " {'brightness': 4.0,\n",
      "  'step_number': 2,\n",
      "  'step_start_time': datetime.datetime(2018, 9, 10, 19, 17, 8, 571428)},\n",
      " {'brightness': 3.0,\n",
      "  'step_number': 3,\n",
      "  'step_start_time': datetime.datetime(2018, 9, 10, 20, 10, 42, 857142)},\n",
      " {'brightness': 2.0,\n",
      "  'step_number': 4,\n",
      "  'step_start_time': datetime.datetime(2018, 9, 10, 21, 4, 17, 142856)}]\n",
      "...\n",
      "[{'brightness': 4.0,\n",
      "  'step_number': 2,\n",
      "  'step_start_time': datetime.datetime(2018, 9, 10, 19, 17, 8, 571428)},\n",
      " {'brightness': 3.0,\n",
      "  'step_number': 3,\n",
      "  'step_start_time': datetime.datetime(2018, 9, 10, 20, 10, 42, 857142)},\n",
      " {'brightness': 2.0,\n",
      "  'step_number': 4,\n",
      "  'step_start_time': datetime.datetime(2018, 9, 10, 21, 4, 17, 142856)},\n",
      " {'brightness': 1.0,\n",
      "  'step_number': 5,\n",
      "  'step_start_time': datetime.datetime(2018, 9, 10, 21, 57, 51, 428570)},\n",
      " {'brightness': 0.0,\n",
      "  'step_number': 6,\n",
      "  'step_start_time': datetime.datetime(2018, 9, 10, 22, 51, 25, 714284)}]\n"
     ]
    }
   ],
   "source": [
    "for i in transitions[0:1]:\n",
    "    plan = planner(i)\n",
    "    print(\"steps:\", len(plan['plan']))\n",
    "pprint(plan['details'])\n",
    "pprint(plan['plan'][0:5])\n",
    "print(\"...\")\n",
    "pprint(plan['plan'][-5:])"
   ]
  },
  {
   "cell_type": "code",
   "execution_count": null,
   "metadata": {},
   "outputs": [],
   "source": []
  },
  {
   "cell_type": "code",
   "execution_count": 86,
   "metadata": {},
   "outputs": [],
   "source": [
    "dorp = [i for i in range(8)]"
   ]
  },
  {
   "cell_type": "code",
   "execution_count": 87,
   "metadata": {},
   "outputs": [
    {
     "data": {
      "text/plain": [
       "[0, 1, 2, 3, 4, 5, 6, 7]"
      ]
     },
     "execution_count": 87,
     "metadata": {},
     "output_type": "execute_result"
    }
   ],
   "source": [
    "dorp"
   ]
  },
  {
   "cell_type": "code",
   "execution_count": 88,
   "metadata": {},
   "outputs": [
    {
     "data": {
      "text/plain": [
       "[0, 2, 4, 6]"
      ]
     },
     "execution_count": 88,
     "metadata": {},
     "output_type": "execute_result"
    }
   ],
   "source": [
    "dorp[0:8:2]"
   ]
  },
  {
   "cell_type": "code",
   "execution_count": null,
   "metadata": {},
   "outputs": [],
   "source": []
  }
 ],
 "metadata": {
  "kernelspec": {
   "display_name": "Python 3",
   "language": "python",
   "name": "python3"
  },
  "language_info": {
   "codemirror_mode": {
    "name": "ipython",
    "version": 3
   },
   "file_extension": ".py",
   "mimetype": "text/x-python",
   "name": "python",
   "nbconvert_exporter": "python",
   "pygments_lexer": "ipython3",
   "version": "3.6.6"
  }
 },
 "nbformat": 4,
 "nbformat_minor": 2
}
